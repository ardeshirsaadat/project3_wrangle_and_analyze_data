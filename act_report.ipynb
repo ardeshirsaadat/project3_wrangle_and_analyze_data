{
 "cells": [
  {
   "cell_type": "markdown",
   "metadata": {},
   "source": [
    "## Report: act_report\n",
    "* Create a **250-word-minimum written report** called \"act_report.pdf\" or \"act_report.html\" that communicates the insights and displays the visualization(s) produced from your wrangled data. This is to be framed as an external document, like a blog post or magazine article, for example."
   ]
  },
  {
   "cell_type": "markdown",
   "metadata": {},
   "source": [
    "### Introduction:\n",
    "WeRateDogs is a Twitter account that rates people's dogs with a humorous comment about the dog. The account was started in 2015 by college student Matt Nelson, and has received international media attention.\n",
    "After going throught the wrangling process, I tried to answer some genreal questions I had in mind.\n",
    "### Questions:\n",
    "1.what kind of breeds are most likely to draw more attention to a channel or a tweet?\n",
    "\n",
    "2.what kind of breeds are most likely to be recognized accuratley by the neural network image recognition model?\n",
    "\n",
    "3.Is there any trend or seasonality in regards to people liking or retweeting a tweet?"
   ]
  },
  {
   "cell_type": "markdown",
   "metadata": {},
   "source": [
    "#### Findings:\n",
    "1.Tweets containing standard Poodle were amongst the most retweeted tweets on average\n",
    "\n",
    "2.Tweets containing Saluki breed were amongs the most liked tweets on average\n",
    "\n",
    "3.The image recognition system was able to recognize the Komondor breed with highest confidence score on average\n",
    "\n",
    "4.There is not a noticable trend in regards to time vs number of retweets/likes."
   ]
  },
  {
   "cell_type": "markdown",
   "metadata": {},
   "source": []
  }
 ],
 "metadata": {
  "kernelspec": {
   "display_name": "Python 3 (ipykernel)",
   "language": "python",
   "name": "python3"
  },
  "language_info": {
   "codemirror_mode": {
    "name": "ipython",
    "version": 3
   },
   "file_extension": ".py",
   "mimetype": "text/x-python",
   "name": "python",
   "nbconvert_exporter": "python",
   "pygments_lexer": "ipython3",
   "version": "3.8.11"
  }
 },
 "nbformat": 4,
 "nbformat_minor": 2
}
