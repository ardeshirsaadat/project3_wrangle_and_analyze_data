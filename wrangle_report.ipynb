{
 "cells": [
  {
   "cell_type": "markdown",
   "metadata": {},
   "source": []
  },
  {
   "cell_type": "markdown",
   "metadata": {},
   "source": [
    "##  Wrangling Process Report:"
   ]
  },
  {
   "cell_type": "markdown",
   "metadata": {},
   "source": [
    "\n",
    "To wrangle data I went through a three step process,first I gathered data from different sources via API calls, direct downloads, and indirect downloads(using Requests library) and then I asseessed three datasets that I had gathered during the first step to first get an insight of what these datasets are and secondley to find and document quality and tidiness issues that may have existed in the datasets, finally I tried to correct the issues that I had found in the previous step to have the datasets ready for further analysis."
   ]
  },
  {
   "cell_type": "markdown",
   "metadata": {},
   "source": []
  },
  {
   "cell_type": "markdown",
   "metadata": {},
   "source": [
    "### Quality issues\n",
    "**twitter_enhanced_table**\n",
    "\n",
    "1.Missing data 'retweeted_status_id','retweeted_status_user_id','retweeted_status_timestamp','in_reply_to_status_id','in_reply_to_user_id'\n",
    "\n",
    "2.'doggo','floofer','pupper','puppo' columns have 'None' values as string\n",
    "\n",
    "3.some 'rating_denominator' values differ from 10\n",
    "\n",
    "4.some 'rating_numinator' are less than 10\n",
    "\n",
    "5.some tweets 'retweeted_status_id' or 'retweeted_status_user_id' have values which would indicate some tweets are replies.\n",
    "\n",
    "6.some values in 'name' column do not have valid names.\n",
    "\n",
    "7.tweet_id should not be integer\n",
    "\n",
    "8.timestamp should be in date type\n",
    "\n",
    "\n",
    "**image_prediction_df**\n",
    "\n",
    "1.Some images are not dogs\n",
    "\n",
    "2.tweet_id is integer\n",
    "\n",
    "**tweet_json_df**\n",
    "\n",
    "1.tweet_id is integer"
   ]
  },
  {
   "cell_type": "markdown",
   "metadata": {},
   "source": [
    "### Tidiness issues\n",
    "**twitter_enhanced_table**\n",
    "\n",
    "1.'doggo','flopper','pupper', 'pupper' can form a column\n",
    "\n",
    "2.ratings can form a column"
   ]
  },
  {
   "cell_type": "code",
   "execution_count": null,
   "metadata": {},
   "outputs": [],
   "source": []
  },
  {
   "cell_type": "code",
   "execution_count": null,
   "metadata": {},
   "outputs": [],
   "source": []
  },
  {
   "cell_type": "code",
   "execution_count": null,
   "metadata": {},
   "outputs": [],
   "source": []
  },
  {
   "cell_type": "code",
   "execution_count": null,
   "metadata": {},
   "outputs": [],
   "source": []
  },
  {
   "cell_type": "code",
   "execution_count": null,
   "metadata": {},
   "outputs": [],
   "source": []
  }
 ],
 "metadata": {
  "kernelspec": {
   "display_name": "Python 3 (ipykernel)",
   "language": "python",
   "name": "python3"
  },
  "language_info": {
   "codemirror_mode": {
    "name": "ipython",
    "version": 3
   },
   "file_extension": ".py",
   "mimetype": "text/x-python",
   "name": "python",
   "nbconvert_exporter": "python",
   "pygments_lexer": "ipython3",
   "version": "3.8.11"
  }
 },
 "nbformat": 4,
 "nbformat_minor": 2
}
